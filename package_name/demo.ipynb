{
 "cells": [
  {
   "cell_type": "markdown",
   "metadata": {},
   "source": [
    "# How to Use Feature Extraction Toolbox"
   ]
  },
  {
   "cell_type": "code",
   "execution_count": 1,
   "metadata": {},
   "outputs": [],
   "source": [
    "import pandas as pd\n",
    "\n",
    "from package_name.feature_extraction import settings, extraction"
   ]
  },
  {
   "cell_type": "code",
   "execution_count": 2,
   "metadata": {},
   "outputs": [],
   "source": [
    "# Load dataset\n",
    "filename = \"/home/scai9/feature_dataset/USCHAD_data.csv\"\n",
    "dataset = pd.read_csv(filename)\n",
    "\n",
    "# Get subset of dataset to use for testing\n",
    "dataset = dataset.loc[dataset[\"subject\"]==1]"
   ]
  },
  {
   "cell_type": "markdown",
   "metadata": {},
   "source": [
    "### Parameter Settings for Feature Extraction\n",
    "\n",
    "There are three categories of features: Statistical, Spectral, and Time Frequency. Each have a class holding parameters required for feature calculation. A given configuration can be saved in either a json or yaml format."
   ]
  },
  {
   "cell_type": "code",
   "execution_count": 3,
   "metadata": {},
   "outputs": [],
   "source": [
    "# Initialization of the feature extraction parameters\n",
    "statistical_params = settings.StatisticalFeatureParams(25)\n",
    "spectral_params = settings.SpectralFeatureParams(25)\n",
    "time_freq_params = settings.TimeFrequencyFeatureParams(25)\n",
    "\n",
    "# Save and load the parameters\n",
    "statistical_params.to_json(\"statistical_params.json\")\n",
    "statistical_params_2 = settings.StatisticalFeatureParams.from_json(\"statistical_params.json\")\n",
    "\n",
    "assert statistical_params.get_settings_as_dict() == statistical_params_2.get_settings_as_dict()"
   ]
  },
  {
   "cell_type": "markdown",
   "metadata": {},
   "source": [
    "### Data Format for Feature Calculators\n",
    "\n",
    "The individual statistial feature calculator functions support univariate series inputs. See example below."
   ]
  },
  {
   "cell_type": "code",
   "execution_count": 4,
   "metadata": {},
   "outputs": [
    {
     "name": "stdout",
     "output_type": "stream",
     "text": [
      "Area Under Squared Curve: 40958.88911775005\n"
     ]
    }
   ],
   "source": [
    "from package_name.feature_extraction.statistical_feature_calculators import calculate_area_under_squared_curve\n",
    "\n",
    "area = calculate_area_under_squared_curve(dataset[\"accx\"].values)\n",
    "print(f\"Area Under Squared Curve: {area}\")"
   ]
  },
  {
   "cell_type": "markdown",
   "metadata": {},
   "source": [
    "### Using Feature Extraction Functions\n",
    "\n",
    "In `package_name.feature_extraction.extraction` there are functions to extract features from each subcategory: Statistical, Spectral, and Time-Frequency. There is also a fucntion available to extraction features from all three categories. The `signal_name` parameter specifies a name for the dataset to be prepended to all sub-signal names in the resultant dataframe. `njobs` also specifies the number of cores to use. A basic example of each is shown below.\n"
   ]
  },
  {
   "cell_type": "code",
   "execution_count": null,
   "metadata": {},
   "outputs": [],
   "source": [
    "# Calculate statistical features\n",
    "features = extraction.calculate_statistical_features(dataset, statistical_params, columns=[\"accx\", \"accy\", \"accz\"], signal_name=\"test\", njobs=1)\n",
    "\n",
    "print(features.head())"
   ]
  },
  {
   "cell_type": "code",
   "execution_count": 7,
   "metadata": {},
   "outputs": [
    {
     "name": "stderr",
     "output_type": "stream",
     "text": [
      "/home/scai9/proj-adl-classification/package_name/feature_extraction/spectral_feature_calculators.py:1462: FutureWarning: Unlike other reduction functions (e.g. `skew`, `kurtosis`), the default behavior of `mode` typically preserves the axis it acts along. In SciPy 1.11.0, this behavior will change: the default value of `keepdims` will become False, the `axis` over which the statistic is taken will be eliminated, and the value None will no longer be accepted. Set `keepdims` to True or False to avoid this warning.\n",
      "  valley_width_mode = mode(valley_widths)[0]\n"
     ]
    },
    {
     "name": "stdout",
     "output_type": "stream",
     "text": [
      "           spectral_centroid_order_1  spectral_centroid_order_2  \\\n",
      "test_accx                   5.141873                  38.604725   \n",
      "test_accy                   5.759207                  46.973967   \n",
      "test_accz                   5.790333                  46.604544   \n",
      "\n",
      "           spectral_centroid_order_3  spectral_centroid_order_4  \\\n",
      "test_accx                 341.026915                3300.370039   \n",
      "test_accy                 436.952883                4359.183368   \n",
      "test_accz                 425.692532                4166.225257   \n",
      "\n",
      "           spectral_centroid_order_5     spectral_variance  spectral_skewness  \\\n",
      "test_accx               33736.373902  [12.165864506310944]           0.410417   \n",
      "test_accy               45381.461031  [13.805503482397702]           0.144313   \n",
      "test_accz               42583.239419  [13.076591019536808]           0.093072   \n",
      "\n",
      "           spectral_kurtosis  median_frequency  spectral_flatness  ...  \\\n",
      "test_accx           2.116443          3.906250           0.703348  ...   \n",
      "test_accy           1.789479          4.980469           0.788680  ...   \n",
      "test_accz           1.810430          5.371094           0.790859  ...   \n",
      "\n",
      "           spectral_valley_width_std  spectral_subdominant_valley  \\\n",
      "test_accx                   1.277557                   460.592732   \n",
      "test_accy                   1.155574                  1055.960403   \n",
      "test_accz                   1.177119                   323.447883   \n",
      "\n",
      "           spectral_valley_count  spectral_peak_broadness  \\\n",
      "test_accx                   6283                 3.108087   \n",
      "test_accy                   6670                 2.929214   \n",
      "test_accz                   6462                 3.023684   \n",
      "\n",
      "           spectral_valley_broadness  spectral_range  spectral_trimmed_mean  \\\n",
      "test_accx                   3.108405            12.5               6.586059   \n",
      "test_accy                   2.929075            12.5               6.395146   \n",
      "test_accz                   3.023526            12.5               6.360421   \n",
      "\n",
      "           harmonic_product_spectrum    smoothness      roughness  \n",
      "test_accx               7.100717e+17  4.649315e+08  571628.112834  \n",
      "test_accy               2.940695e+15  3.591439e+07  426309.816860  \n",
      "test_accz               1.489817e+15  2.458991e+07  340996.930034  \n",
      "\n",
      "[3 rows x 83 columns]\n"
     ]
    }
   ],
   "source": [
    "# Calculate spectral features\n",
    "features = extraction.calculate_spectral_features(dataset, spectral_params, columns=[\"accx\", \"accy\", \"accz\"], signal_name=\"test\", njobs=1)\n",
    "\n",
    "print(features.head())"
   ]
  },
  {
   "cell_type": "code",
   "execution_count": null,
   "metadata": {},
   "outputs": [],
   "source": [
    "# Calculate time frequency features\n",
    "features = extraction.calculate_time_frequency_features(dataset, time_freq_params, columns=[\"accx\", \"accy\", \"accz\"], signal_name=\"test\", njobs=1)\n",
    "\n",
    "print(features.head())"
   ]
  },
  {
   "cell_type": "markdown",
   "metadata": {},
   "source": [
    "Arrays, DataFrames and Series are all acceptable input data formats. If the input is a DataFrame, the columns parameters specifies the columns to analyze (as seen in the previous examples). If not, they are the ordered names of the components of signal. "
   ]
  },
  {
   "cell_type": "code",
   "execution_count": 6,
   "metadata": {},
   "outputs": [
    {
     "name": "stdout",
     "output_type": "stream",
     "text": [
      "(39076, 3)\n",
      "Error calculating feature(s) sample_entropy: Unable to allocate 34.1 GiB for an array with shape (39074, 39074, 3) and data type float64\n",
      "Feature(s) sample_entropy will be excluded.\n",
      "Error calculating feature(s) approximate_entropy: Unable to allocate 22.8 GiB for an array with shape (39075, 39075, 2) and data type float64\n",
      "Feature(s) approximate_entropy will be excluded.\n"
     ]
    },
    {
     "name": "stderr",
     "output_type": "stream",
     "text": [
      "/home/scai9/proj-adl-classification/package_name/feature_extraction/statistical_feature_calculators.py:2481: FutureWarning: Unlike other reduction functions (e.g. `skew`, `kurtosis`), the default behavior of `mode` typically preserves the axis it acts along. In SciPy 1.11.0, this behavior will change: the default value of `keepdims` will become False, the `axis` over which the statistic is taken will be eliminated, and the value None will no longer be accepted. Set `keepdims` to True or False to avoid this warning.\n",
      "  return mode(signal)[0][0]\n"
     ]
    },
    {
     "name": "stdout",
     "output_type": "stream",
     "text": [
      "Error calculating feature(s) sample_entropy: Unable to allocate 34.1 GiB for an array with shape (39074, 39074, 3) and data type float64\n",
      "Feature(s) sample_entropy will be excluded.\n",
      "Error calculating feature(s) approximate_entropy: Unable to allocate 22.8 GiB for an array with shape (39075, 39075, 2) and data type float64\n",
      "Feature(s) approximate_entropy will be excluded.\n"
     ]
    },
    {
     "name": "stderr",
     "output_type": "stream",
     "text": [
      "/home/scai9/proj-adl-classification/package_name/feature_extraction/statistical_feature_calculators.py:2481: FutureWarning: Unlike other reduction functions (e.g. `skew`, `kurtosis`), the default behavior of `mode` typically preserves the axis it acts along. In SciPy 1.11.0, this behavior will change: the default value of `keepdims` will become False, the `axis` over which the statistic is taken will be eliminated, and the value None will no longer be accepted. Set `keepdims` to True or False to avoid this warning.\n",
      "  return mode(signal)[0][0]\n"
     ]
    },
    {
     "name": "stdout",
     "output_type": "stream",
     "text": [
      "Error calculating feature(s) sample_entropy: Unable to allocate 34.1 GiB for an array with shape (39074, 39074, 3) and data type float64\n",
      "Feature(s) sample_entropy will be excluded.\n",
      "Error calculating feature(s) approximate_entropy: Unable to allocate 22.8 GiB for an array with shape (39075, 39075, 2) and data type float64\n",
      "Feature(s) approximate_entropy will be excluded.\n"
     ]
    },
    {
     "name": "stderr",
     "output_type": "stream",
     "text": [
      "/home/scai9/proj-adl-classification/package_name/feature_extraction/statistical_feature_calculators.py:2481: FutureWarning: Unlike other reduction functions (e.g. `skew`, `kurtosis`), the default behavior of `mode` typically preserves the axis it acts along. In SciPy 1.11.0, this behavior will change: the default value of `keepdims` will become False, the `axis` over which the statistic is taken will be eliminated, and the value None will no longer be accepted. Set `keepdims` to True or False to avoid this warning.\n",
      "  return mode(signal)[0][0]\n"
     ]
    },
    {
     "name": "stdout",
     "output_type": "stream",
     "text": [
      "               mean  geometric_mean  harmonic_mean  trimmed_mean_0.1  \\\n",
      "test_accx  0.742372        0.907159       0.702253          0.790657   \n",
      "test_accy  0.188140        0.250165       0.106604          0.211222   \n",
      "test_accz -0.158577        0.099436       0.027122         -0.152811   \n",
      "\n",
      "           trimmed_mean_0.15  trimmed_mean_0.2  trimmed_mean_0.25  \\\n",
      "test_accx           0.847635          0.863518           0.872033   \n",
      "test_accy           0.213097          0.212477           0.210095   \n",
      "test_accz          -0.148787         -0.144394          -0.141309   \n",
      "\n",
      "           trimmed_mean_0.3  mean_of_abs  geometric_mean_of_abs  ...  \\\n",
      "test_accx          0.879215     0.936795               0.852483  ...   \n",
      "test_accy          0.211006     0.311715               0.205384  ...   \n",
      "test_accz         -0.142072     0.241382               0.162420  ...   \n",
      "\n",
      "           hurst_exponent  adf_teststats  adf_pvalue  adf_usedlag  \\\n",
      "test_accx        0.803642      -2.638544    0.085290         54.0   \n",
      "test_accy        0.933237      -4.737202    0.000072         54.0   \n",
      "test_accz        0.870860      -3.673118    0.004508         53.0   \n",
      "\n",
      "           has_duplicates  max_has_duplicates  min_has_duplicates  large_std  \\\n",
      "test_accx            True               False               False      False   \n",
      "test_accy            True               False               False      False   \n",
      "test_accz            True               False               False      False   \n",
      "\n",
      "           lempel_ziv_complexity      cid_ce  \n",
      "test_accx               0.076134  133.676732  \n",
      "test_accy               0.068687  196.787852  \n",
      "test_accz               0.097784  200.735675  \n",
      "\n",
      "[3 rows x 149 columns]\n"
     ]
    },
    {
     "ename": "AttributeError",
     "evalue": "'function' object has no attribute 'names'",
     "output_type": "error",
     "traceback": [
      "\u001b[0;31m---------------------------------------------------------------------------\u001b[0m",
      "\u001b[0;31mRemoteTraceback\u001b[0m                           Traceback (most recent call last)",
      "\u001b[0;31mRemoteTraceback\u001b[0m: \n\"\"\"\nTraceback (most recent call last):\n  File \"/home/scai9/proj-adl-classification/package_name/utils/extraction_utils.py\", line 77, in extract_features\n    feature = calculate(**series, **param_dict)\nTypeError: wrapper() argument after ** must be a mapping, not tuple\n\nDuring handling of the above exception, another exception occurred:\n\nTraceback (most recent call last):\n  File \"/usr/lib/python3.8/multiprocessing/pool.py\", line 125, in worker\n    result = (True, func(*args, **kwds))\n  File \"/home/scai9/proj-adl-classification/package_name/utils/extraction_utils.py\", line 79, in extract_features\n    name = getattr(calculate, \"names\")\nAttributeError: 'function' object has no attribute 'names'\n\"\"\"",
      "\nThe above exception was the direct cause of the following exception:\n",
      "\u001b[0;31mAttributeError\u001b[0m                            Traceback (most recent call last)",
      "Cell \u001b[0;32mIn[6], line 8\u001b[0m\n\u001b[1;32m      5\u001b[0m \u001b[38;5;28mprint\u001b[39m(features\u001b[38;5;241m.\u001b[39mhead())\n\u001b[1;32m      7\u001b[0m \u001b[38;5;66;03m# Series input\u001b[39;00m\n\u001b[0;32m----> 8\u001b[0m features \u001b[38;5;241m=\u001b[39m \u001b[43mextraction\u001b[49m\u001b[38;5;241;43m.\u001b[39;49m\u001b[43mcalculate_statistical_features\u001b[49m\u001b[43m(\u001b[49m\u001b[43mdataset\u001b[49m\u001b[43m[\u001b[49m\u001b[38;5;124;43m\"\u001b[39;49m\u001b[38;5;124;43maccx\u001b[39;49m\u001b[38;5;124;43m\"\u001b[39;49m\u001b[43m]\u001b[49m\u001b[38;5;241;43m.\u001b[39;49m\u001b[43mvalues\u001b[49m\u001b[43m,\u001b[49m\u001b[43m \u001b[49m\u001b[43mstatistical_params\u001b[49m\u001b[43m,\u001b[49m\u001b[43m \u001b[49m\u001b[43mcolumns\u001b[49m\u001b[38;5;241;43m=\u001b[39;49m\u001b[43m[\u001b[49m\u001b[38;5;124;43m\"\u001b[39;49m\u001b[38;5;124;43maccx\u001b[39;49m\u001b[38;5;124;43m\"\u001b[39;49m\u001b[43m]\u001b[49m\u001b[43m,\u001b[49m\u001b[43m \u001b[49m\u001b[43msignal_name\u001b[49m\u001b[38;5;241;43m=\u001b[39;49m\u001b[38;5;124;43m\"\u001b[39;49m\u001b[38;5;124;43mtest\u001b[39;49m\u001b[38;5;124;43m\"\u001b[39;49m\u001b[43m,\u001b[49m\u001b[43m \u001b[49m\u001b[43mnjobs\u001b[49m\u001b[38;5;241;43m=\u001b[39;49m\u001b[38;5;241;43m1\u001b[39;49m\u001b[43m)\u001b[49m\n\u001b[1;32m     10\u001b[0m \u001b[38;5;28mprint\u001b[39m(features\u001b[38;5;241m.\u001b[39mhead())\n",
      "File \u001b[0;32m~/proj-adl-classification/package_name/feature_extraction/extraction.py:76\u001b[0m, in \u001b[0;36mcalculate_statistical_features\u001b[0;34m(data, params, window_size, columns, signal_name, njobs)\u001b[0m\n\u001b[1;32m     72\u001b[0m     params \u001b[38;5;241m=\u001b[39m StatisticalFeatureParams(window_size)\n\u001b[1;32m     74\u001b[0m time_series \u001b[38;5;241m=\u001b[39m TimeSeries(data, columns\u001b[38;5;241m=\u001b[39mcolumns, name\u001b[38;5;241m=\u001b[39msignal_name)\n\u001b[0;32m---> 76\u001b[0m features \u001b[38;5;241m=\u001b[39m \u001b[43mcalculate_ts_features\u001b[49m\u001b[43m(\u001b[49m\u001b[43mtime_series\u001b[49m\u001b[43m,\u001b[49m\u001b[43m \u001b[49m\u001b[38;5;124;43m\"\u001b[39;49m\u001b[38;5;124;43mstatistical\u001b[39;49m\u001b[38;5;124;43m\"\u001b[39;49m\u001b[43m,\u001b[49m\u001b[43m \u001b[49m\u001b[43mparams\u001b[49m\u001b[43m,\u001b[49m\u001b[43m \u001b[49m\u001b[43mnjobs\u001b[49m\u001b[38;5;241;43m=\u001b[39;49m\u001b[43mnjobs\u001b[49m\u001b[43m)\u001b[49m\n\u001b[1;32m     77\u001b[0m \u001b[38;5;28;01mreturn\u001b[39;00m features\n",
      "File \u001b[0;32m~/proj-adl-classification/package_name/feature_extraction/extraction.py:172\u001b[0m, in \u001b[0;36mcalculate_ts_features\u001b[0;34m(time_series, module, params, njobs)\u001b[0m\n\u001b[1;32m    168\u001b[0m param_dict \u001b[38;5;241m=\u001b[39m params\u001b[38;5;241m.\u001b[39mget_settings_as_dict()\n\u001b[1;32m    170\u001b[0m results \u001b[38;5;241m=\u001b[39m pool\u001b[38;5;241m.\u001b[39mimap(partial(extract_features, module\u001b[38;5;241m=\u001b[39mmodule, param_dict\u001b[38;5;241m=\u001b[39mparam_dict), time_series)\n\u001b[0;32m--> 172\u001b[0m \u001b[38;5;28;01mfor\u001b[39;00m r \u001b[38;5;129;01min\u001b[39;00m results:\n\u001b[1;32m    173\u001b[0m     index\u001b[38;5;241m.\u001b[39mappend(r\u001b[38;5;241m.\u001b[39mlabel)\n\u001b[1;32m    174\u001b[0m     features\u001b[38;5;241m.\u001b[39mappend(r\u001b[38;5;241m.\u001b[39mfeatures)\n",
      "File \u001b[0;32m/usr/lib/python3.8/multiprocessing/pool.py:868\u001b[0m, in \u001b[0;36mIMapIterator.next\u001b[0;34m(self, timeout)\u001b[0m\n\u001b[1;32m    866\u001b[0m \u001b[38;5;28;01mif\u001b[39;00m success:\n\u001b[1;32m    867\u001b[0m     \u001b[38;5;28;01mreturn\u001b[39;00m value\n\u001b[0;32m--> 868\u001b[0m \u001b[38;5;28;01mraise\u001b[39;00m value\n",
      "\u001b[0;31mAttributeError\u001b[0m: 'function' object has no attribute 'names'"
     ]
    }
   ],
   "source": [
    "# 2D array input\n",
    "# print(dataset[[\"accx\", \"accy\", \"accz\"]].values.shape)\n",
    "# features = extraction.calculate_statistical_features(dataset[[\"accx\", \"accy\", \"accz\"]].values, statistical_params, columns=[\"accx\", \"accy\", \"accz\"], signal_name=\"test\", njobs=1)\n",
    "\n",
    "# print(features.head())\n",
    "\n",
    "# Series input\n",
    "features = extraction.calculate_statistical_features(dataset[\"accx\"].values, statistical_params, columns=[\"accx\"], signal_name=\"test\", njobs=1)\n",
    "\n",
    "print(features.head())"
   ]
  },
  {
   "cell_type": "code",
   "execution_count": 6,
   "metadata": {},
   "outputs": [
    {
     "name": "stderr",
     "output_type": "stream",
     "text": [
      "/home/scai9/proj-adl-classification/package_name/feature_extraction/statistical_feature_calculators.py:2481: FutureWarning: Unlike other reduction functions (e.g. `skew`, `kurtosis`), the default behavior of `mode` typically preserves the axis it acts along. In SciPy 1.11.0, this behavior will change: the default value of `keepdims` will become False, the `axis` over which the statistic is taken will be eliminated, and the value None will no longer be accepted. Set `keepdims` to True or False to avoid this warning.\n",
      "  return mode(signal)[0][0]\n"
     ]
    },
    {
     "name": "stdout",
     "output_type": "stream",
     "text": [
      "               mean       std      mode\n",
      "test_accx  0.742372  0.705045  0.864040\n",
      "test_accy  0.188140  0.342796  0.509207\n",
      "test_accz -0.158577  0.266645  0.125137\n"
     ]
    }
   ],
   "source": [
    "statistical_params = settings.StatisticalFeatureParams(25, calculators=[\"mean\", \"mode\", \"std\"])\n",
    "\n",
    "features = extraction.calculate_statistical_features(dataset, statistical_params, columns=[\"accx\", \"accy\", \"accz\"], signal_name=\"test\", njobs=1)\n",
    "print(features.head())"
   ]
  },
  {
   "cell_type": "code",
   "execution_count": null,
   "metadata": {},
   "outputs": [],
   "source": []
  }
 ],
 "metadata": {
  "kernelspec": {
   "display_name": "Python 3",
   "language": "python",
   "name": "python3"
  },
  "language_info": {
   "codemirror_mode": {
    "name": "ipython",
    "version": 3
   },
   "file_extension": ".py",
   "mimetype": "text/x-python",
   "name": "python",
   "nbconvert_exporter": "python",
   "pygments_lexer": "ipython3",
   "version": "3.8.10"
  }
 },
 "nbformat": 4,
 "nbformat_minor": 2
}
